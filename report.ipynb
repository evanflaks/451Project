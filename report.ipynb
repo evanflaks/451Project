{
 "cells": [
  {
   "cell_type": "raw",
   "metadata": {
    "vscode": {
     "languageId": "raw"
    }
   },
   "source": [
    "---\n",
    "title: TO CHANGE\n",
    "author: Jackson Hanson and Evan Flaks\n",
    "date: '2025-05-18'\n",
    "image: \"NCAA_football_icon_logo.svg\"\n",
    "description: \"This blog post explores and compares advanced optimization techniques—Newton’s Method and Adam—by applying them to logistic regression on the Titanic dataset and analyzing their convergence behavior.\"\n",
    "format: html\n",
    "bibliography: refs.bib\n",
    "---"
   ]
  },
  {
   "cell_type": "markdown",
   "metadata": {},
   "source": [
    "# Abstract\n",
    "\n",
    "This project aims to predict the final scores of Power 5 NCAA Division I college football games using only data available before each game, such as offensive/defensive efficiency, average points scored/allowed, and other team-level statistics. This dataset is from before college football’s conference realignment, so Power 5 is defined as Big 12, Big 10, SEC, ACC, and Pac 12. The approach involves training regression models on historical data from 2002 through January 2025. To evaluate model performance, we will compare predicted versus actual game scores using metrics like Root Mean Squared Error (RMSE) and Mean Absolute Error (MAE), focusing on how well the model forecasts real outcomes before games are played."
   ]
  },
  {
   "cell_type": "markdown",
   "metadata": {},
   "source": [
    "# Introduction\n",
    "\n",
    "Predicting the outcome of college football games has long fascinated analysts, fans, and gamblers alike. With hundreds of teams, rapidly changing rosters, and varying levels of competition, college football represents a particularly chaotic and complex environment for prediction. In recent years, machine learning has emerged as a promising tool to navigate this complexity by identifying patterns in large, high-dimensional datasets. These techniques offer the potential to improve upon traditional heuristics like Vegas point spreads and expert intuition, enabling more data-driven and accurate forecasting of game outcomes.\n",
    "\n",
    "In this project, we aim to build a machine learning model that predicts the point differential of college football games. Rather than just predicting the winner, we decided to make this a regression problem by predicting the exact outcome of each game. The challenge lies in identifying meaningful features and learning stable relationships in a setting marked by noise, inconsistency, and limited game data. The implications of accurate point differential prediction are significant. For coaches and analysts, such predictions can guide in-game decision-making and season planning. Analytics play such a huge role in college sports today and coaching staffs are using this type of analysis to decide who to recruit, how to gameplan, and how to allocate Name, Image, and Likeness (NIL) money. For media and fans, they offer deeper insights into matchups. And for bettors, they provide a potential edge over the house. However, responsibly using predictive models is critical given their influence on gambling behavior. \n",
    "\n",
    "Two studies that intersected with our project goals are Luke Boll’s Capstone Report and Anyama and Igiri’s Research. These are two instances where neural networks were applied to make regression predictions for football games. \n",
    "\n",
    "Luke Boll’s Capstone Report [@boll2023gridiron] explored the use of neural networks in college football prediction as a regression problem. His model utilized over 1,700 features from scraped team statistics and point spreads, showing how deep learning architectures like multilayer perceptrons could outperform simpler baselines under certain conditions. Boll found that incorporating expert knowledge (e.g. removing early-season non-conference games) and thoughtful feature selection (e.g. using Lasso regression) substantially improved model performance. This is one area that we would like to focus on for our project. We want to really customize our model so that the feautres and the network itself incorporate \"football-like\" knowledge. We will engineer our features and customize our models so that they reflect current trends in college football. \n",
    "\n",
    "Anyama and Igiri’s Research applied a hybrid machine learning model combining linear regression and artificial neural networks to NFL data. Their approach used RapidMiner to preprocess data and combine weighted features with a neural model, achieving a high reported prediction accuracy of 90.32%. Their work emphasizes the value of hybrid models, particularly when combining statistical weighting with non-linear learning. From this group's work we decided we also want to employ a similar hybrid approach. We will include both linear and neural models and use the same error measure to compare. This group had lots of player level feautures. This group did their project on the NFL, rather than NCAA so that data is easier to find. We are going to hone in on team level data in our project.\n"
   ]
  }
 ],
 "metadata": {
  "language_info": {
   "name": "python"
  }
 },
 "nbformat": 4,
 "nbformat_minor": 2
}
